{
  "nbformat": 4,
  "nbformat_minor": 0,
  "metadata": {
    "kernelspec": {
      "display_name": "Python 3",
      "language": "python",
      "name": "python3"
    },
    "language_info": {
      "codemirror_mode": {
        "name": "ipython",
        "version": 3
      },
      "file_extension": ".py",
      "mimetype": "text/x-python",
      "name": "python",
      "nbconvert_exporter": "python",
      "pygments_lexer": "ipython3",
      "version": "3.8.5"
    },
    "colab": {
      "name": "Coding_Assessment_Walter_Group.ipynb",
      "provenance": [],
      "collapsed_sections": []
    }
  },
  "cells": [
    {
      "cell_type": "code",
      "metadata": {
        "id": "BsChQE9LOGo3"
      },
      "source": [
        "# HI There, Just relax and enjoy the show :)\n",
        "\n",
        "# Your task in this challenge is to predict the cost of the houses in particular blocks \n",
        "# based on different sociodemographic attributes \n",
        "# (It's up to you to decide which attributes you want to use, you can include location information or not)\n",
        "\n",
        "# You can use any of the libraries that you want\n",
        "# These libraries below are just a recommendation\n",
        "\n",
        "\n",
        "# CHALLENGE 1: If some of those libraries are  not available on your system,\n",
        "# you would need to resolve the dependencies as part of this challenge\n",
        "\n",
        "import numpy as np\n",
        "import matplotlib.pyplot as plt \n",
        "\n",
        "import pandas as pd  \n",
        "import seaborn as sns \n",
        "from sklearn.datasets import fetch_california_housing\n",
        "\n",
        "%matplotlib inline"
      ],
      "execution_count": null,
      "outputs": []
    },
    {
      "cell_type": "code",
      "metadata": {
        "id": "h3-YjCEjOGo6",
        "colab": {
          "base_uri": "https://localhost:8080/",
          "height": 204
        },
        "outputId": "ac8bd758-8ae8-4671-fdaf-98a984096f00"
      },
      "source": [
        "# We will work with this dataset in the next steps\n",
        "# CHALLENGE 2: Load the data ( it will get harder :) )\n",
        "df = fetch_california_housing(as_frame=True)[\"frame\"]\n",
        "df.head()\n",
        "\n",
        "# ---- Attribute Information ----:\n",
        "# MedInc:  median income in block\n",
        "# HouseAge:  median house age in block\n",
        "# AveRooms:  average number of rooms\n",
        "# AveBedrms:  average number of bedrooms\n",
        "# Population:  block population\n",
        "# AveOccup:  average house occupancy\n",
        "# Latitude:  house block latitude\n",
        "# Longitude:  house block longitude\n",
        "# MedHouseVal: the median house value for California districts (!! our target variable !!)\n",
        "\n",
        "# This dataset was derived from the 1990 U.S. census, using one row per census\n",
        "# block group. A block group is the smallest geographical unit for which the U.S.\n",
        "# Census Bureau publishes sample data (a block group typically has a population\n",
        "# of 600 to 3,000 people).\n"
      ],
      "execution_count": null,
      "outputs": [
        {
          "output_type": "execute_result",
          "data": {
            "text/html": [
              "<div>\n",
              "<style scoped>\n",
              "    .dataframe tbody tr th:only-of-type {\n",
              "        vertical-align: middle;\n",
              "    }\n",
              "\n",
              "    .dataframe tbody tr th {\n",
              "        vertical-align: top;\n",
              "    }\n",
              "\n",
              "    .dataframe thead th {\n",
              "        text-align: right;\n",
              "    }\n",
              "</style>\n",
              "<table border=\"1\" class=\"dataframe\">\n",
              "  <thead>\n",
              "    <tr style=\"text-align: right;\">\n",
              "      <th></th>\n",
              "      <th>MedInc</th>\n",
              "      <th>HouseAge</th>\n",
              "      <th>AveRooms</th>\n",
              "      <th>AveBedrms</th>\n",
              "      <th>Population</th>\n",
              "      <th>AveOccup</th>\n",
              "      <th>Latitude</th>\n",
              "      <th>Longitude</th>\n",
              "      <th>MedHouseVal</th>\n",
              "    </tr>\n",
              "  </thead>\n",
              "  <tbody>\n",
              "    <tr>\n",
              "      <th>0</th>\n",
              "      <td>8.3252</td>\n",
              "      <td>41.0</td>\n",
              "      <td>6.984127</td>\n",
              "      <td>1.023810</td>\n",
              "      <td>322.0</td>\n",
              "      <td>2.555556</td>\n",
              "      <td>37.88</td>\n",
              "      <td>-122.23</td>\n",
              "      <td>4.526</td>\n",
              "    </tr>\n",
              "    <tr>\n",
              "      <th>1</th>\n",
              "      <td>8.3014</td>\n",
              "      <td>21.0</td>\n",
              "      <td>6.238137</td>\n",
              "      <td>0.971880</td>\n",
              "      <td>2401.0</td>\n",
              "      <td>2.109842</td>\n",
              "      <td>37.86</td>\n",
              "      <td>-122.22</td>\n",
              "      <td>3.585</td>\n",
              "    </tr>\n",
              "    <tr>\n",
              "      <th>2</th>\n",
              "      <td>7.2574</td>\n",
              "      <td>52.0</td>\n",
              "      <td>8.288136</td>\n",
              "      <td>1.073446</td>\n",
              "      <td>496.0</td>\n",
              "      <td>2.802260</td>\n",
              "      <td>37.85</td>\n",
              "      <td>-122.24</td>\n",
              "      <td>3.521</td>\n",
              "    </tr>\n",
              "    <tr>\n",
              "      <th>3</th>\n",
              "      <td>5.6431</td>\n",
              "      <td>52.0</td>\n",
              "      <td>5.817352</td>\n",
              "      <td>1.073059</td>\n",
              "      <td>558.0</td>\n",
              "      <td>2.547945</td>\n",
              "      <td>37.85</td>\n",
              "      <td>-122.25</td>\n",
              "      <td>3.413</td>\n",
              "    </tr>\n",
              "    <tr>\n",
              "      <th>4</th>\n",
              "      <td>3.8462</td>\n",
              "      <td>52.0</td>\n",
              "      <td>6.281853</td>\n",
              "      <td>1.081081</td>\n",
              "      <td>565.0</td>\n",
              "      <td>2.181467</td>\n",
              "      <td>37.85</td>\n",
              "      <td>-122.25</td>\n",
              "      <td>3.422</td>\n",
              "    </tr>\n",
              "  </tbody>\n",
              "</table>\n",
              "</div>"
            ],
            "text/plain": [
              "   MedInc  HouseAge  AveRooms  ...  Latitude  Longitude  MedHouseVal\n",
              "0  8.3252      41.0  6.984127  ...     37.88    -122.23        4.526\n",
              "1  8.3014      21.0  6.238137  ...     37.86    -122.22        3.585\n",
              "2  7.2574      52.0  8.288136  ...     37.85    -122.24        3.521\n",
              "3  5.6431      52.0  5.817352  ...     37.85    -122.25        3.413\n",
              "4  3.8462      52.0  6.281853  ...     37.85    -122.25        3.422\n",
              "\n",
              "[5 rows x 9 columns]"
            ]
          },
          "metadata": {},
          "execution_count": 2
        }
      ]
    },
    {
      "cell_type": "code",
      "metadata": {
        "id": "5PtK0hYpOGo9"
      },
      "source": [
        "# CHALLENGE 3: Explorative Data Analysis and Data Cleaning\n",
        "# Examine the data for outliers, missing values and try to apply some\n",
        "# cleaning on the data. Provide visualization if possible\n",
        "# Do you see any patterns, correlations in the data?\n",
        "# Please describe your observations\n"
      ],
      "execution_count": null,
      "outputs": []
    },
    {
      "cell_type": "code",
      "metadata": {
        "id": "uqGwP9XiOGo-"
      },
      "source": [
        "# CHALLENGE 4: Now divide your dataset into train- and testset and apply any models you want\n",
        "# (you can use any frameworks you want e.g sklearn, tensorflow etc)\n"
      ],
      "execution_count": null,
      "outputs": []
    },
    {
      "cell_type": "code",
      "metadata": {
        "id": "dLUx-osWOGo_"
      },
      "source": [
        "# CHALLENGE 5: Measure the results of your models and apply model selection\n",
        "# Please argue why would you select one model over another"
      ],
      "execution_count": null,
      "outputs": []
    },
    {
      "cell_type": "code",
      "metadata": {
        "id": "WxMyFZQWXBli"
      },
      "source": [
        "# CHALLENNGE 6: Write a summary report of your results, including plots and \n",
        "#discussion of your results (You can reuse the outcome/plots from above). \n",
        "#The report shall cover the following questions:\n",
        "# 1. What was most interesting/surprising for you when you explored and visualized the data?\n",
        "# 2. What was the biggest problem for you to complete all challenges, and how did you solve the problem?\n",
        "# 3. Which model performed best, and why?\n",
        "# 4. ..."
      ],
      "execution_count": null,
      "outputs": []
    }
  ]
}